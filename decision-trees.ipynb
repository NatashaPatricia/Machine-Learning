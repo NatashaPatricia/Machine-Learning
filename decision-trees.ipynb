{
 "cells": [
  {
   "cell_type": "code",
   "execution_count": 8,
   "metadata": {},
   "outputs": [],
   "source": [
    "import pandas as pd\n",
    "import numpy as np\n",
    "from sklearn.model_selection import train_test_split\n",
    "from sklearn.ensemble import RandomForestRegressor\n",
    "from sklearn.tree import DecisionTreeRegressor\n",
    "from sklearn.metrics import mean_absolute_error, mean_squared_error"
   ]
  },
  {
   "cell_type": "code",
   "execution_count": 6,
   "metadata": {},
   "outputs": [
    {
     "data": {
      "text/html": [
       "<div>\n",
       "<style scoped>\n",
       "    .dataframe tbody tr th:only-of-type {\n",
       "        vertical-align: middle;\n",
       "    }\n",
       "\n",
       "    .dataframe tbody tr th {\n",
       "        vertical-align: top;\n",
       "    }\n",
       "\n",
       "    .dataframe thead th {\n",
       "        text-align: right;\n",
       "    }\n",
       "</style>\n",
       "<table border=\"1\" class=\"dataframe\">\n",
       "  <thead>\n",
       "    <tr style=\"text-align: right;\">\n",
       "      <th></th>\n",
       "      <th>No</th>\n",
       "      <th>X1 transaction date</th>\n",
       "      <th>X2 house age</th>\n",
       "      <th>X3 distance to the nearest MRT station</th>\n",
       "      <th>X4 number of convenience stores</th>\n",
       "      <th>X5 latitude</th>\n",
       "      <th>X6 longitude</th>\n",
       "      <th>Y house price of unit area</th>\n",
       "    </tr>\n",
       "  </thead>\n",
       "  <tbody>\n",
       "    <tr>\n",
       "      <th>0</th>\n",
       "      <td>1</td>\n",
       "      <td>2012.917</td>\n",
       "      <td>32.0</td>\n",
       "      <td>84.87882</td>\n",
       "      <td>10</td>\n",
       "      <td>24.98298</td>\n",
       "      <td>121.54024</td>\n",
       "      <td>37.9</td>\n",
       "    </tr>\n",
       "    <tr>\n",
       "      <th>1</th>\n",
       "      <td>2</td>\n",
       "      <td>2012.917</td>\n",
       "      <td>19.5</td>\n",
       "      <td>306.59470</td>\n",
       "      <td>9</td>\n",
       "      <td>24.98034</td>\n",
       "      <td>121.53951</td>\n",
       "      <td>42.2</td>\n",
       "    </tr>\n",
       "    <tr>\n",
       "      <th>2</th>\n",
       "      <td>3</td>\n",
       "      <td>2013.583</td>\n",
       "      <td>13.3</td>\n",
       "      <td>561.98450</td>\n",
       "      <td>5</td>\n",
       "      <td>24.98746</td>\n",
       "      <td>121.54391</td>\n",
       "      <td>47.3</td>\n",
       "    </tr>\n",
       "    <tr>\n",
       "      <th>3</th>\n",
       "      <td>4</td>\n",
       "      <td>2013.500</td>\n",
       "      <td>13.3</td>\n",
       "      <td>561.98450</td>\n",
       "      <td>5</td>\n",
       "      <td>24.98746</td>\n",
       "      <td>121.54391</td>\n",
       "      <td>54.8</td>\n",
       "    </tr>\n",
       "    <tr>\n",
       "      <th>4</th>\n",
       "      <td>5</td>\n",
       "      <td>2012.833</td>\n",
       "      <td>5.0</td>\n",
       "      <td>390.56840</td>\n",
       "      <td>5</td>\n",
       "      <td>24.97937</td>\n",
       "      <td>121.54245</td>\n",
       "      <td>43.1</td>\n",
       "    </tr>\n",
       "  </tbody>\n",
       "</table>\n",
       "</div>"
      ],
      "text/plain": [
       "   No  X1 transaction date  X2 house age  \\\n",
       "0   1             2012.917          32.0   \n",
       "1   2             2012.917          19.5   \n",
       "2   3             2013.583          13.3   \n",
       "3   4             2013.500          13.3   \n",
       "4   5             2012.833           5.0   \n",
       "\n",
       "   X3 distance to the nearest MRT station  X4 number of convenience stores  \\\n",
       "0                                84.87882                               10   \n",
       "1                               306.59470                                9   \n",
       "2                               561.98450                                5   \n",
       "3                               561.98450                                5   \n",
       "4                               390.56840                                5   \n",
       "\n",
       "   X5 latitude  X6 longitude  Y house price of unit area  \n",
       "0     24.98298     121.54024                        37.9  \n",
       "1     24.98034     121.53951                        42.2  \n",
       "2     24.98746     121.54391                        47.3  \n",
       "3     24.98746     121.54391                        54.8  \n",
       "4     24.97937     121.54245                        43.1  "
      ]
     },
     "execution_count": 6,
     "metadata": {},
     "output_type": "execute_result"
    }
   ],
   "source": [
    "housing = pd.read_csv(\"Real estate.csv\")\n",
    "housing.head()"
   ]
  },
  {
   "cell_type": "code",
   "execution_count": 9,
   "metadata": {},
   "outputs": [],
   "source": [
    "\n",
    "X = housing[['X1 transaction date', 'X2 house age', 'X3 distance to the nearest MRT station',\n",
    "        'X4 number of convenience stores', 'X5 latitude', 'X6 longitude']]\n",
    "y = housing['Y house price of unit area']\n",
    "\n",
    "\n",
    "X_train, X_test, y_train, y_test = train_test_split(X, y, test_size=0.2, random_state=42)\n"
   ]
  },
  {
   "cell_type": "code",
   "execution_count": 13,
   "metadata": {},
   "outputs": [
    {
     "data": {
      "text/plain": [
       "array([48.929     , 38.076     , 55.50426667, 33.509     , 26.36      ,\n",
       "       45.2325    , 47.6485    , 50.37633333, 14.386     , 59.51425   ,\n",
       "       26.834     , 32.371     , 33.4534    , 14.555     , 37.418     ,\n",
       "       25.055     , 40.60866667, 53.52801667, 25.377     , 37.828     ,\n",
       "       16.0038    , 23.529     , 48.417     , 46.10183333, 13.2338    ,\n",
       "       35.16      , 15.684     , 56.8796    , 50.261     , 38.00266667,\n",
       "       21.444     , 24.915     , 36.055     , 25.563     , 45.30766667,\n",
       "       38.09196667, 53.896     , 15.74663333, 45.8245    , 51.909     ,\n",
       "       49.052     , 40.893     , 45.993     , 38.163     , 39.826     ,\n",
       "       49.944     , 35.1836    , 24.376     , 47.615     , 46.015     ,\n",
       "       48.322     , 55.105     , 40.496     , 37.733     , 39.9386    ,\n",
       "       16.12283333, 35.89066667, 26.921     , 24.954     , 52.525     ,\n",
       "       27.638     , 24.028     , 16.12283333, 13.87666667, 21.107     ,\n",
       "       23.475     , 25.854     , 39.435     , 36.701     , 26.758     ,\n",
       "       40.865     , 51.26925   , 55.08643333, 49.4545    , 34.469     ,\n",
       "       36.18      , 39.8621    , 32.3495    , 40.832     , 33.435     ,\n",
       "       38.543     , 46.358     , 26.708     ])"
      ]
     },
     "execution_count": 13,
     "metadata": {},
     "output_type": "execute_result"
    }
   ],
   "source": [
    "model_rf = RandomForestRegressor(n_estimators=100, random_state=44)\n",
    "model_rf.fit(X_train, y_train)\n",
    "\n",
    "y_predicted = model_rf.predict(X_test)\n",
    "y_predicted"
   ]
  },
  {
   "cell_type": "code",
   "execution_count": 14,
   "metadata": {},
   "outputs": [],
   "source": [
    "mse_rf = mean_squared_error(y_test, y_predicted)\n",
    "mae_rf = mean_absolute_error(y_test, y_predicted)\n",
    "rmse_rf = np.sqrt(mse_rf)"
   ]
  },
  {
   "cell_type": "code",
   "execution_count": 15,
   "metadata": {},
   "outputs": [
    {
     "name": "stdout",
     "output_type": "stream",
     "text": [
      "MSE 32.533902589755684\n",
      "MAE 3.969382530120484\n",
      "RMSE 5.70384980427743\n"
     ]
    }
   ],
   "source": [
    "\n",
    "print(\"MSE\",mse_rf)\n",
    "print(\"MAE\",mae_rf)\n",
    "print(\"RMSE\",rmse_rf)"
   ]
  },
  {
   "cell_type": "code",
   "execution_count": 22,
   "metadata": {},
   "outputs": [
    {
     "data": {
      "text/plain": [
       "array([48.6, 38.9, 43.5, 32.9, 23.8, 38.6, 51.7, 55. , 12.8, 58.1, 25.9,\n",
       "       33.4, 48. , 13.8, 34.2, 23. , 32.4, 57.8, 27.7, 34.4, 14.4, 20.9,\n",
       "       57.1, 36.3, 11.6, 33.1, 12.8, 43.5, 67.7, 28.5, 22.6, 21.7, 36.8,\n",
       "       26.6, 41.2, 41.4, 52.7, 15.9, 38.6, 60.7, 61.5, 37.5, 46.1, 37.4,\n",
       "       39.3, 47.9, 31.6, 32.1, 47.7, 53.3, 48.6, 55. , 34.1, 40.8, 55.3,\n",
       "       15.9, 34.1, 22.8, 27.7, 55. , 23.1, 25.9, 15.9, 13.2, 18.8, 20.9,\n",
       "       26.6, 31.6, 35.7, 25.3, 39.3, 61.5, 57.8, 36.9, 28.5, 43.1, 39. ,\n",
       "       26.9, 37.4, 31.1, 46.4, 42.1, 28.4])"
      ]
     },
     "execution_count": 22,
     "metadata": {},
     "output_type": "execute_result"
    }
   ],
   "source": [
    "dt_model = DecisionTreeRegressor(random_state=42)\n",
    "dt_model.fit(X_train, y_train)\n",
    "\n",
    "y_pred_dt = dt_model.predict(X_test)\n",
    "y_pred_dt"
   ]
  },
  {
   "cell_type": "code",
   "execution_count": 17,
   "metadata": {},
   "outputs": [],
   "source": [
    "mse_dt = mean_squared_error(y_test, y_pred_dt)\n",
    "mae_dt = mean_absolute_error(y_test, y_pred_dt)\n",
    "rmse_dt = np.sqrt(mse_dt)"
   ]
  },
  {
   "cell_type": "code",
   "execution_count": 20,
   "metadata": {},
   "outputs": [
    {
     "name": "stdout",
     "output_type": "stream",
     "text": [
      "Decision tree MSE 66.47144578313254\n",
      "Decision tree MAE 5.9313253012048195\n",
      "Decision tree RMSE 8.153002255803228\n"
     ]
    }
   ],
   "source": [
    "\n",
    "print(\"Decision tree MSE\",mse_dt)\n",
    "print(\"Decision tree MAE\",mae_dt)\n",
    "print(\"Decision tree RMSE\",rmse_dt)"
   ]
  }
 ],
 "metadata": {
  "kernelspec": {
   "display_name": "Python 3",
   "language": "python",
   "name": "python3"
  },
  "language_info": {
   "codemirror_mode": {
    "name": "ipython",
    "version": 3
   },
   "file_extension": ".py",
   "mimetype": "text/x-python",
   "name": "python",
   "nbconvert_exporter": "python",
   "pygments_lexer": "ipython3",
   "version": "3.11.1"
  }
 },
 "nbformat": 4,
 "nbformat_minor": 2
}
