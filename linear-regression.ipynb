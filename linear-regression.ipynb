{
 "cells": [
  {
   "cell_type": "code",
   "execution_count": 1,
   "metadata": {},
   "outputs": [],
   "source": [
    "import pandas as pd"
   ]
  },
  {
   "cell_type": "code",
   "execution_count": 2,
   "metadata": {},
   "outputs": [],
   "source": [
    "Housing= pd.read_csv(\"Real estate.csv\")"
   ]
  },
  {
   "cell_type": "code",
   "execution_count": 3,
   "metadata": {},
   "outputs": [
    {
     "data": {
      "text/html": [
       "<div>\n",
       "<style scoped>\n",
       "    .dataframe tbody tr th:only-of-type {\n",
       "        vertical-align: middle;\n",
       "    }\n",
       "\n",
       "    .dataframe tbody tr th {\n",
       "        vertical-align: top;\n",
       "    }\n",
       "\n",
       "    .dataframe thead th {\n",
       "        text-align: right;\n",
       "    }\n",
       "</style>\n",
       "<table border=\"1\" class=\"dataframe\">\n",
       "  <thead>\n",
       "    <tr style=\"text-align: right;\">\n",
       "      <th></th>\n",
       "      <th>No</th>\n",
       "      <th>X1 transaction date</th>\n",
       "      <th>X2 house age</th>\n",
       "      <th>X3 distance to the nearest MRT station</th>\n",
       "      <th>X4 number of convenience stores</th>\n",
       "      <th>X5 latitude</th>\n",
       "      <th>X6 longitude</th>\n",
       "      <th>Y house price of unit area</th>\n",
       "    </tr>\n",
       "  </thead>\n",
       "  <tbody>\n",
       "    <tr>\n",
       "      <th>0</th>\n",
       "      <td>1</td>\n",
       "      <td>2012.917</td>\n",
       "      <td>32.0</td>\n",
       "      <td>84.87882</td>\n",
       "      <td>10</td>\n",
       "      <td>24.98298</td>\n",
       "      <td>121.54024</td>\n",
       "      <td>37.9</td>\n",
       "    </tr>\n",
       "    <tr>\n",
       "      <th>1</th>\n",
       "      <td>2</td>\n",
       "      <td>2012.917</td>\n",
       "      <td>19.5</td>\n",
       "      <td>306.59470</td>\n",
       "      <td>9</td>\n",
       "      <td>24.98034</td>\n",
       "      <td>121.53951</td>\n",
       "      <td>42.2</td>\n",
       "    </tr>\n",
       "    <tr>\n",
       "      <th>2</th>\n",
       "      <td>3</td>\n",
       "      <td>2013.583</td>\n",
       "      <td>13.3</td>\n",
       "      <td>561.98450</td>\n",
       "      <td>5</td>\n",
       "      <td>24.98746</td>\n",
       "      <td>121.54391</td>\n",
       "      <td>47.3</td>\n",
       "    </tr>\n",
       "    <tr>\n",
       "      <th>3</th>\n",
       "      <td>4</td>\n",
       "      <td>2013.500</td>\n",
       "      <td>13.3</td>\n",
       "      <td>561.98450</td>\n",
       "      <td>5</td>\n",
       "      <td>24.98746</td>\n",
       "      <td>121.54391</td>\n",
       "      <td>54.8</td>\n",
       "    </tr>\n",
       "    <tr>\n",
       "      <th>4</th>\n",
       "      <td>5</td>\n",
       "      <td>2012.833</td>\n",
       "      <td>5.0</td>\n",
       "      <td>390.56840</td>\n",
       "      <td>5</td>\n",
       "      <td>24.97937</td>\n",
       "      <td>121.54245</td>\n",
       "      <td>43.1</td>\n",
       "    </tr>\n",
       "  </tbody>\n",
       "</table>\n",
       "</div>"
      ],
      "text/plain": [
       "   No  X1 transaction date  X2 house age  \\\n",
       "0   1             2012.917          32.0   \n",
       "1   2             2012.917          19.5   \n",
       "2   3             2013.583          13.3   \n",
       "3   4             2013.500          13.3   \n",
       "4   5             2012.833           5.0   \n",
       "\n",
       "   X3 distance to the nearest MRT station  X4 number of convenience stores  \\\n",
       "0                                84.87882                               10   \n",
       "1                               306.59470                                9   \n",
       "2                               561.98450                                5   \n",
       "3                               561.98450                                5   \n",
       "4                               390.56840                                5   \n",
       "\n",
       "   X5 latitude  X6 longitude  Y house price of unit area  \n",
       "0     24.98298     121.54024                        37.9  \n",
       "1     24.98034     121.53951                        42.2  \n",
       "2     24.98746     121.54391                        47.3  \n",
       "3     24.98746     121.54391                        54.8  \n",
       "4     24.97937     121.54245                        43.1  "
      ]
     },
     "execution_count": 3,
     "metadata": {},
     "output_type": "execute_result"
    }
   ],
   "source": [
    "Housing.head()"
   ]
  },
  {
   "cell_type": "code",
   "execution_count": 8,
   "metadata": {},
   "outputs": [
    {
     "data": {
      "text/plain": [
       "0"
      ]
     },
     "execution_count": 8,
     "metadata": {},
     "output_type": "execute_result"
    }
   ],
   "source": [
    "duplicated=Housing.duplicated().sum()\n",
    "duplicated"
   ]
  },
  {
   "cell_type": "code",
   "execution_count": 10,
   "metadata": {},
   "outputs": [
    {
     "data": {
      "text/plain": [
       "No                                        0\n",
       "X1 transaction date                       0\n",
       "X2 house age                              0\n",
       "X3 distance to the nearest MRT station    0\n",
       "X4 number of convenience stores           0\n",
       "X5 latitude                               0\n",
       "X6 longitude                              0\n",
       "Y house price of unit area                0\n",
       "dtype: int64"
      ]
     },
     "execution_count": 10,
     "metadata": {},
     "output_type": "execute_result"
    }
   ],
   "source": [
    "Housing.isnull().sum()"
   ]
  },
  {
   "cell_type": "code",
   "execution_count": 21,
   "metadata": {},
   "outputs": [],
   "source": [
    "from sklearn.model_selection import train_test_split\n",
    "\n",
    "X = Housing[['X1 transaction date','X2 house age','X3 distance to the nearest MRT station','X4 number of convenience stores','X5 latitude','X6 longitude']]\n",
    "y=Housing['Y house price of unit area']\n",
    "\n",
    "# Splitting the data into training and testing sets\n",
    "X_train, X_test, y_train, y_test = train_test_split(X, y, test_size=0.2, random_state=42)\n"
   ]
  },
  {
   "cell_type": "code",
   "execution_count": 23,
   "metadata": {},
   "outputs": [
    {
     "data": {
      "text/plain": [
       "array([47.88625422, 41.16404556, 44.27301439, 40.19761542, 27.51326511,\n",
       "       45.10953115, 44.63293274, 46.36346234, 23.62063133, 54.33444894,\n",
       "       34.07416461, 36.54533193, 37.55154254, 23.2794052 , 35.26614165,\n",
       "       34.38327747, 43.35633504, 45.40740539, 30.07083159, 44.09191493,\n",
       "        0.73505984, 34.99271686, 48.22735154, 45.48646485, 11.5995282 ,\n",
       "       39.69783664, 12.71276251, 42.91282893, 34.93451401, 37.27964515,\n",
       "       13.17842185, 40.12708486, 35.21883505, 27.71588924, 46.40090931,\n",
       "       31.21941994, 50.90046891, 14.07339433, 49.05344276, 40.0538446 ,\n",
       "       38.24588962, 40.63256441, 47.01634759, 37.65598977, 39.85801839,\n",
       "       46.88588156, 43.7241343 , 20.94434531, 47.41546271, 45.40608841,\n",
       "       48.33783579, 48.98845389, 42.27403852, 42.5841908 , 36.04088185,\n",
       "       14.95491907, 36.61494629, 34.88196676, 28.33519081, 45.91188076,\n",
       "       33.19268817, 32.18910095, 14.95491907,  8.86547927, 10.36079881,\n",
       "       34.11119212, 28.48186875, 46.59826043, 32.96743316, 31.47635439,\n",
       "       45.75168852, 38.1732971 , 45.83734855, 45.10711423, 34.85434095,\n",
       "       37.43148997, 38.12216764, 37.54923793, 40.3686992 , 33.09139633,\n",
       "       42.32783358, 43.35398473, 28.43979763])"
      ]
     },
     "execution_count": 23,
     "metadata": {},
     "output_type": "execute_result"
    }
   ],
   "source": [
    "from sklearn.linear_model import LinearRegression\n",
    "model = LinearRegression()\n",
    "model.fit(X_train,y_train)\n",
    "\n",
    "y_pred = model.predict(X_test)\n",
    "y_pred"
   ]
  },
  {
   "cell_type": "code",
   "execution_count": 24,
   "metadata": {},
   "outputs": [
    {
     "data": {
      "text/html": [
       "<div>\n",
       "<style scoped>\n",
       "    .dataframe tbody tr th:only-of-type {\n",
       "        vertical-align: middle;\n",
       "    }\n",
       "\n",
       "    .dataframe tbody tr th {\n",
       "        vertical-align: top;\n",
       "    }\n",
       "\n",
       "    .dataframe thead th {\n",
       "        text-align: right;\n",
       "    }\n",
       "</style>\n",
       "<table border=\"1\" class=\"dataframe\">\n",
       "  <thead>\n",
       "    <tr style=\"text-align: right;\">\n",
       "      <th></th>\n",
       "      <th>X1 transaction date</th>\n",
       "      <th>X2 house age</th>\n",
       "      <th>X3 distance to the nearest MRT station</th>\n",
       "      <th>X4 number of convenience stores</th>\n",
       "      <th>X5 latitude</th>\n",
       "      <th>X6 longitude</th>\n",
       "    </tr>\n",
       "  </thead>\n",
       "  <tbody>\n",
       "    <tr>\n",
       "      <th>192</th>\n",
       "      <td>2013.167</td>\n",
       "      <td>43.8</td>\n",
       "      <td>57.58945</td>\n",
       "      <td>7</td>\n",
       "      <td>24.96750</td>\n",
       "      <td>121.54069</td>\n",
       "    </tr>\n",
       "    <tr>\n",
       "      <th>234</th>\n",
       "      <td>2013.250</td>\n",
       "      <td>8.0</td>\n",
       "      <td>2216.61200</td>\n",
       "      <td>4</td>\n",
       "      <td>24.96007</td>\n",
       "      <td>121.51361</td>\n",
       "    </tr>\n",
       "    <tr>\n",
       "      <th>5</th>\n",
       "      <td>2012.667</td>\n",
       "      <td>7.1</td>\n",
       "      <td>2175.03000</td>\n",
       "      <td>3</td>\n",
       "      <td>24.96305</td>\n",
       "      <td>121.51254</td>\n",
       "    </tr>\n",
       "    <tr>\n",
       "      <th>45</th>\n",
       "      <td>2013.083</td>\n",
       "      <td>36.6</td>\n",
       "      <td>488.81930</td>\n",
       "      <td>8</td>\n",
       "      <td>24.97015</td>\n",
       "      <td>121.54494</td>\n",
       "    </tr>\n",
       "    <tr>\n",
       "      <th>245</th>\n",
       "      <td>2013.417</td>\n",
       "      <td>7.5</td>\n",
       "      <td>639.61980</td>\n",
       "      <td>5</td>\n",
       "      <td>24.97258</td>\n",
       "      <td>121.54814</td>\n",
       "    </tr>\n",
       "    <tr>\n",
       "      <th>...</th>\n",
       "      <td>...</td>\n",
       "      <td>...</td>\n",
       "      <td>...</td>\n",
       "      <td>...</td>\n",
       "      <td>...</td>\n",
       "      <td>...</td>\n",
       "    </tr>\n",
       "    <tr>\n",
       "      <th>71</th>\n",
       "      <td>2013.083</td>\n",
       "      <td>35.5</td>\n",
       "      <td>640.73910</td>\n",
       "      <td>3</td>\n",
       "      <td>24.97563</td>\n",
       "      <td>121.53715</td>\n",
       "    </tr>\n",
       "    <tr>\n",
       "      <th>106</th>\n",
       "      <td>2013.083</td>\n",
       "      <td>17.2</td>\n",
       "      <td>189.51810</td>\n",
       "      <td>8</td>\n",
       "      <td>24.97707</td>\n",
       "      <td>121.54308</td>\n",
       "    </tr>\n",
       "    <tr>\n",
       "      <th>270</th>\n",
       "      <td>2013.333</td>\n",
       "      <td>10.8</td>\n",
       "      <td>252.58220</td>\n",
       "      <td>1</td>\n",
       "      <td>24.97460</td>\n",
       "      <td>121.53046</td>\n",
       "    </tr>\n",
       "    <tr>\n",
       "      <th>348</th>\n",
       "      <td>2012.833</td>\n",
       "      <td>4.6</td>\n",
       "      <td>259.66070</td>\n",
       "      <td>6</td>\n",
       "      <td>24.97585</td>\n",
       "      <td>121.54516</td>\n",
       "    </tr>\n",
       "    <tr>\n",
       "      <th>102</th>\n",
       "      <td>2013.083</td>\n",
       "      <td>1.1</td>\n",
       "      <td>193.58450</td>\n",
       "      <td>6</td>\n",
       "      <td>24.96571</td>\n",
       "      <td>121.54089</td>\n",
       "    </tr>\n",
       "  </tbody>\n",
       "</table>\n",
       "<p>331 rows × 6 columns</p>\n",
       "</div>"
      ],
      "text/plain": [
       "     X1 transaction date  X2 house age  \\\n",
       "192             2013.167          43.8   \n",
       "234             2013.250           8.0   \n",
       "5               2012.667           7.1   \n",
       "45              2013.083          36.6   \n",
       "245             2013.417           7.5   \n",
       "..                   ...           ...   \n",
       "71              2013.083          35.5   \n",
       "106             2013.083          17.2   \n",
       "270             2013.333          10.8   \n",
       "348             2012.833           4.6   \n",
       "102             2013.083           1.1   \n",
       "\n",
       "     X3 distance to the nearest MRT station  X4 number of convenience stores  \\\n",
       "192                                57.58945                                7   \n",
       "234                              2216.61200                                4   \n",
       "5                                2175.03000                                3   \n",
       "45                                488.81930                                8   \n",
       "245                               639.61980                                5   \n",
       "..                                      ...                              ...   \n",
       "71                                640.73910                                3   \n",
       "106                               189.51810                                8   \n",
       "270                               252.58220                                1   \n",
       "348                               259.66070                                6   \n",
       "102                               193.58450                                6   \n",
       "\n",
       "     X5 latitude  X6 longitude  \n",
       "192     24.96750     121.54069  \n",
       "234     24.96007     121.51361  \n",
       "5       24.96305     121.51254  \n",
       "45      24.97015     121.54494  \n",
       "245     24.97258     121.54814  \n",
       "..           ...           ...  \n",
       "71      24.97563     121.53715  \n",
       "106     24.97707     121.54308  \n",
       "270     24.97460     121.53046  \n",
       "348     24.97585     121.54516  \n",
       "102     24.96571     121.54089  \n",
       "\n",
       "[331 rows x 6 columns]"
      ]
     },
     "execution_count": 24,
     "metadata": {},
     "output_type": "execute_result"
    }
   ],
   "source": [
    "X_train"
   ]
  },
  {
   "cell_type": "code",
   "execution_count": 31,
   "metadata": {},
   "outputs": [
    {
     "name": "stdout",
     "output_type": "stream",
     "text": [
      "mse 53.50561912450505\n",
      "rmse 7.314753524521866\n",
      "mae 5.305355690074272\n"
     ]
    }
   ],
   "source": [
    "from sklearn.metrics import mean_squared_error, mean_absolute_error\n",
    "import numpy as np\n",
    "mse = mean_squared_error(y_test, y_pred)\n",
    "mae = mean_absolute_error(y_test, y_pred)\n",
    "rmse = np.sqrt(mse)\n",
    "print (\"mse\",mse)\n",
    "print(\"rmse\",rmse)\n",
    "print(\"mae\",mae)"
   ]
  },
  {
   "cell_type": "code",
   "execution_count": null,
   "metadata": {},
   "outputs": [],
   "source": []
  }
 ],
 "metadata": {
  "kernelspec": {
   "display_name": "Python 3",
   "language": "python",
   "name": "python3"
  },
  "language_info": {
   "codemirror_mode": {
    "name": "ipython",
    "version": 3
   },
   "file_extension": ".py",
   "mimetype": "text/x-python",
   "name": "python",
   "nbconvert_exporter": "python",
   "pygments_lexer": "ipython3",
   "version": "3.11.1"
  }
 },
 "nbformat": 4,
 "nbformat_minor": 2
}
